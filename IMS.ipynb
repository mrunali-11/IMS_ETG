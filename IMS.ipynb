{
  "nbformat": 4,
  "nbformat_minor": 0,
  "metadata": {
    "colab": {
      "name": "IMS.ipynb",
      "provenance": [],
      "collapsed_sections": []
    },
    "kernelspec": {
      "name": "python3",
      "display_name": "Python 3"
    },
    "language_info": {
      "name": "python"
    }
  },
  "cells": [
    {
      "cell_type": "code",
      "metadata": {
        "id": "fZFxo77UzsIl"
      },
      "source": [
        "records = {101:{\"name\":\"Laptop\",\"quantity\":100,\"Exp_date\":\"2022\",\"Price\":100000,\"Type\":\"Gadget\"},\n",
        "          102:{\"name\":\"Ice-cream\",\"quantity\":150,\"Exp_date\":\"2022\",\"Price\":80,\"Type\":\"Desert\"},\n",
        "          103:{\"name\":\"Coke\",\"quantity\":50,\"Exp_date\":\"2022\",\"Price\":90,\"Type\":\"Drinks\"},\n",
        "          104:{\"name\":\"Pizza\",\"quantity\":100,\"Exp_date\":\"2022\",\"Price\":450,\"Type\":\"Maincourse\"},\n",
        "          105:{\"name\":\"Burger\",\"quantity\":14,\"Exp_date\":\"2022\",\"Price\":159,\"Type\":\"Snack\"},\n",
        "          106:{\"name\":\"Mobile\",\"quantity\":60,\"Exp_date\":\"2022\",\"Price\":5000,\"Type\":\"gadget\"},\n",
        "          107 :{\"name\":\"Sandwich\",\"quantity\":10,\"Exp_date\":\"2022\",\"Price\":20,\"Type\":\"Snack\"},\n",
        "          108:{\"name\":\"Biscuits\",\"quantity\":15,\"Exp_date\":\"2022\",\"Price\":25,\"Type\":\"Snack\"},\n",
        "          109:{\"name\":\"Jam\",\"quantity\":15,\"Exp_date\":\"2023\",\"Price\":99,\"Type\":\"Packed food\"},\n",
        "          110:{\"name\":\"Sauce\",\"quantity\":15,\"Exp_date\":\"2021\",\"Price\":100,\"Type\":\"Packed food\"},\n",
        "          111:{\"name\":\"Fruity\",\"quantity\":56,\"Exp_date\":\"2022\",\"Price\":50,\"Type\":\"Drink\"},\n",
        "          112:{\"name\":\"brownies\",\"quantity\":34,\"Exp_date\":\"2022\",\"Price\":100,\"Type\":\"Sweets\"},\n",
        "          113:{\"name\":\"Milkshake\",\"quantity\":5,\"Exp_date\":\"2022\",\"Price\":70,\"Type\":\"Drink\"},\n",
        "          114:{\"name\":\"icecream vanilla\",\"quantity\":23,\"Exp_date\":\"2022\",\"Price\":50,\"Type\":\"Sweets\"},\n",
        "          115:{\"name\":\"Hotchoclate\",\"quantity\":123,\"Exp_date\":\"2022\",\"Price\":250,\"Type\":\"Snack\"}}"
      ],
      "execution_count": 42,
      "outputs": []
    },
    {
      "cell_type": "code",
      "metadata": {
        "colab": {
          "base_uri": "https://localhost:8080/"
        },
        "id": "sUU4y-0H0c-7",
        "outputId": "53066fc2-066f-4a76-ed65-9b5b7e54cda8"
      },
      "source": [
        "records\n"
      ],
      "execution_count": 43,
      "outputs": [
        {
          "output_type": "execute_result",
          "data": {
            "text/plain": [
              "{101: {'Exp_date': '2022',\n",
              "  'Price': 100000,\n",
              "  'Type': 'Gadget',\n",
              "  'name': 'Laptop',\n",
              "  'quantity': 100},\n",
              " 102: {'Exp_date': '2022',\n",
              "  'Price': 80,\n",
              "  'Type': 'Desert',\n",
              "  'name': 'Ice-cream',\n",
              "  'quantity': 150},\n",
              " 103: {'Exp_date': '2022',\n",
              "  'Price': 90,\n",
              "  'Type': 'Drinks',\n",
              "  'name': 'Coke',\n",
              "  'quantity': 50},\n",
              " 104: {'Exp_date': '2022',\n",
              "  'Price': 450,\n",
              "  'Type': 'Maincourse',\n",
              "  'name': 'Pizza',\n",
              "  'quantity': 100},\n",
              " 105: {'Exp_date': '2022',\n",
              "  'Price': 159,\n",
              "  'Type': 'Snack',\n",
              "  'name': 'Burger',\n",
              "  'quantity': 14},\n",
              " 106: {'Exp_date': '2022',\n",
              "  'Price': 5000,\n",
              "  'Type': 'gadget',\n",
              "  'name': 'Mobile',\n",
              "  'quantity': 60},\n",
              " 107: {'Exp_date': '2022',\n",
              "  'Price': 20,\n",
              "  'Type': 'Snack',\n",
              "  'name': 'Sandwich',\n",
              "  'quantity': 10},\n",
              " 108: {'Exp_date': '2022',\n",
              "  'Price': 25,\n",
              "  'Type': 'Snack',\n",
              "  'name': 'Biscuits',\n",
              "  'quantity': 15},\n",
              " 109: {'Exp_date': '2023',\n",
              "  'Price': 99,\n",
              "  'Type': 'Packed food',\n",
              "  'name': 'Jam',\n",
              "  'quantity': 15},\n",
              " 110: {'Exp_date': '2021',\n",
              "  'Price': 100,\n",
              "  'Type': 'Packed food',\n",
              "  'name': 'Sauce',\n",
              "  'quantity': 15},\n",
              " 111: {'Exp_date': '2022',\n",
              "  'Price': 50,\n",
              "  'Type': 'Drink',\n",
              "  'name': 'Fruity',\n",
              "  'quantity': 56},\n",
              " 112: {'Exp_date': '2022',\n",
              "  'Price': 100,\n",
              "  'Type': 'Sweets',\n",
              "  'name': 'brownies',\n",
              "  'quantity': 34},\n",
              " 113: {'Exp_date': '2022',\n",
              "  'Price': 70,\n",
              "  'Type': 'Drink',\n",
              "  'name': 'Milkshake',\n",
              "  'quantity': 5},\n",
              " 114: {'Exp_date': '2022',\n",
              "  'Price': 50,\n",
              "  'Type': 'Sweets',\n",
              "  'name': 'icecream vanilla',\n",
              "  'quantity': 23},\n",
              " 115: {'Exp_date': '2022',\n",
              "  'Price': 250,\n",
              "  'Type': 'Snack',\n",
              "  'name': 'Hotchoclate',\n",
              "  'quantity': 123}}"
            ]
          },
          "metadata": {},
          "execution_count": 43
        }
      ]
    },
    {
      "cell_type": "code",
      "metadata": {
        "colab": {
          "base_uri": "https://localhost:8080/",
          "height": 221
        },
        "id": "vkSpI99b0dCb",
        "outputId": "8fb56279-2adf-4cc8-f2a3-9945031d2cf6"
      },
      "source": [
        "import json\n",
        "jsdata=json.dumps(records)\n",
        "jsdata"
      ],
      "execution_count": 44,
      "outputs": [
        {
          "output_type": "execute_result",
          "data": {
            "application/vnd.google.colaboratory.intrinsic+json": {
              "type": "string"
            },
            "text/plain": [
              "'{\"101\": {\"name\": \"Laptop\", \"quantity\": 100, \"Exp_date\": \"2022\", \"Price\": 100000, \"Type\": \"Gadget\"}, \"102\": {\"name\": \"Ice-cream\", \"quantity\": 150, \"Exp_date\": \"2022\", \"Price\": 80, \"Type\": \"Desert\"}, \"103\": {\"name\": \"Coke\", \"quantity\": 50, \"Exp_date\": \"2022\", \"Price\": 90, \"Type\": \"Drinks\"}, \"104\": {\"name\": \"Pizza\", \"quantity\": 100, \"Exp_date\": \"2022\", \"Price\": 450, \"Type\": \"Maincourse\"}, \"105\": {\"name\": \"Burger\", \"quantity\": 14, \"Exp_date\": \"2022\", \"Price\": 159, \"Type\": \"Snack\"}, \"106\": {\"name\": \"Mobile\", \"quantity\": 60, \"Exp_date\": \"2022\", \"Price\": 5000, \"Type\": \"gadget\"}, \"107\": {\"name\": \"Sandwich\", \"quantity\": 10, \"Exp_date\": \"2022\", \"Price\": 20, \"Type\": \"Snack\"}, \"108\": {\"name\": \"Biscuits\", \"quantity\": 15, \"Exp_date\": \"2022\", \"Price\": 25, \"Type\": \"Snack\"}, \"109\": {\"name\": \"Jam\", \"quantity\": 15, \"Exp_date\": \"2023\", \"Price\": 99, \"Type\": \"Packed food\"}, \"110\": {\"name\": \"Sauce\", \"quantity\": 15, \"Exp_date\": \"2021\", \"Price\": 100, \"Type\": \"Packed food\"}, \"111\": {\"name\": \"Fruity\", \"quantity\": 56, \"Exp_date\": \"2022\", \"Price\": 50, \"Type\": \"Drink\"}, \"112\": {\"name\": \"brownies\", \"quantity\": 34, \"Exp_date\": \"2022\", \"Price\": 100, \"Type\": \"Sweets\"}, \"113\": {\"name\": \"Milkshake\", \"quantity\": 5, \"Exp_date\": \"2022\", \"Price\": 70, \"Type\": \"Drink\"}, \"114\": {\"name\": \"icecream vanilla\", \"quantity\": 23, \"Exp_date\": \"2022\", \"Price\": 50, \"Type\": \"Sweets\"}, \"115\": {\"name\": \"Hotchoclate\", \"quantity\": 123, \"Exp_date\": \"2022\", \"Price\": 250, \"Type\": \"Snack\"}}'"
            ]
          },
          "metadata": {},
          "execution_count": 44
        }
      ]
    },
    {
      "cell_type": "code",
      "metadata": {
        "colab": {
          "base_uri": "https://localhost:8080/",
          "height": 221
        },
        "id": "gcEQzFPV0xV1",
        "outputId": "8c50eb27-d00f-4ba9-bb93-41737500312d"
      },
      "source": [
        "fd=open(\"record.json\",'w')\n",
        "fd.write(jsdata)\n",
        "fd.close()\n",
        "fd=open(\"record.json\",'r')\n",
        "txtdata=fd.read()\n",
        "fd.close()\n",
        "txtdata"
      ],
      "execution_count": 45,
      "outputs": [
        {
          "output_type": "execute_result",
          "data": {
            "application/vnd.google.colaboratory.intrinsic+json": {
              "type": "string"
            },
            "text/plain": [
              "'{\"101\": {\"name\": \"Laptop\", \"quantity\": 100, \"Exp_date\": \"2022\", \"Price\": 100000, \"Type\": \"Gadget\"}, \"102\": {\"name\": \"Ice-cream\", \"quantity\": 150, \"Exp_date\": \"2022\", \"Price\": 80, \"Type\": \"Desert\"}, \"103\": {\"name\": \"Coke\", \"quantity\": 50, \"Exp_date\": \"2022\", \"Price\": 90, \"Type\": \"Drinks\"}, \"104\": {\"name\": \"Pizza\", \"quantity\": 100, \"Exp_date\": \"2022\", \"Price\": 450, \"Type\": \"Maincourse\"}, \"105\": {\"name\": \"Burger\", \"quantity\": 14, \"Exp_date\": \"2022\", \"Price\": 159, \"Type\": \"Snack\"}, \"106\": {\"name\": \"Mobile\", \"quantity\": 60, \"Exp_date\": \"2022\", \"Price\": 5000, \"Type\": \"gadget\"}, \"107\": {\"name\": \"Sandwich\", \"quantity\": 10, \"Exp_date\": \"2022\", \"Price\": 20, \"Type\": \"Snack\"}, \"108\": {\"name\": \"Biscuits\", \"quantity\": 15, \"Exp_date\": \"2022\", \"Price\": 25, \"Type\": \"Snack\"}, \"109\": {\"name\": \"Jam\", \"quantity\": 15, \"Exp_date\": \"2023\", \"Price\": 99, \"Type\": \"Packed food\"}, \"110\": {\"name\": \"Sauce\", \"quantity\": 15, \"Exp_date\": \"2021\", \"Price\": 100, \"Type\": \"Packed food\"}, \"111\": {\"name\": \"Fruity\", \"quantity\": 56, \"Exp_date\": \"2022\", \"Price\": 50, \"Type\": \"Drink\"}, \"112\": {\"name\": \"brownies\", \"quantity\": 34, \"Exp_date\": \"2022\", \"Price\": 100, \"Type\": \"Sweets\"}, \"113\": {\"name\": \"Milkshake\", \"quantity\": 5, \"Exp_date\": \"2022\", \"Price\": 70, \"Type\": \"Drink\"}, \"114\": {\"name\": \"icecream vanilla\", \"quantity\": 23, \"Exp_date\": \"2022\", \"Price\": 50, \"Type\": \"Sweets\"}, \"115\": {\"name\": \"Hotchoclate\", \"quantity\": 123, \"Exp_date\": \"2022\", \"Price\": 250, \"Type\": \"Snack\"}}'"
            ]
          },
          "metadata": {},
          "execution_count": 45
        }
      ]
    },
    {
      "cell_type": "code",
      "metadata": {
        "colab": {
          "base_uri": "https://localhost:8080/"
        },
        "id": "dBNWl48e86-C",
        "outputId": "bf06ba99-1b93-4efd-df4b-56e058cd436a"
      },
      "source": [
        "#Add Product:\n",
        "print(\"Enter product details you want to add\")\n",
        "print(\"-----------------------------------\")\n",
        "ui_prod=input(\"Enter product id: \")\n",
        "ui_name=input(\"Enter name of the product: \")\n",
        "ui_quant=int(input(\"Enter the quantity: \"))\n",
        "ui_exp=input(\"Enter the expiry date: \")\n",
        "ui_price=int(input(\"Enter the price: \"))\n",
        "ui_type=input(\"Enter the type: \")\n",
        "records[ui_prod]={'name':ui_name,'quantity':ui_quant,'Exp_date':ui_exp,'Price':ui_price,'Type':ui_type}\n",
        "jsdata=json.dumps(records)\n",
        "fd=open(\"record.json\",\"w\")\n",
        "fd.write(jsdata)\n",
        "fd.close()\n",
        "\n",
        "\n",
        "print(\"*************************\")\n",
        "print(\"Lets see new items are added or not?\")\n",
        "print(\"--------------------------\")\n",
        "records[ui_prod]\n",
        " \n",
        "#Purchasing\n",
        "print(\"Enter product you want to buy:\")\n",
        "ui_prod1=int(input(\"Enter product id: \"))\n",
        "ui_quant1=int(input(\"Enter product quantity: \"))\n",
        "\n",
        "\n",
        "if (records[ui_prod1]['quantity']<ui_quant1):\n",
        "    print(\"Product not available\")\n",
        "else:\n",
        "  print(\"Available\")\n",
        "\n",
        "# All details\n",
        "\n",
        "print(\"-----------------\")\n",
        "print(\"Generate Bill\")\n",
        "print(\"-----------------\")\n",
        "print(\"Name of Product is: \",records[ui_prod1][\"name\"])\n",
        "print(\"Price of Product is: \",records[ui_prod1][\"Price\"])\n",
        "print(\"Billing amount is: \",records[ui_prod1][\"Price\"]*ui_quant1)\n",
        "\n",
        "\n",
        "# Update inventory\n",
        "\n",
        "\n",
        "print(\"---------------------------\")\n",
        "print(\"Updated inventory(Quantity)\")\n",
        "print(\"---------------------------\")\n",
        "records[ui_prod1]['quantity']=records[ui_prod1]['quantity']-ui_quant1\n",
        "print(records[ui_prod1])\n",
        "\n",
        "jsdata=json.dumps(records)\n",
        "fd=open(\"record.json\",'w')\n",
        "fd.write(jsdata)\n",
        "fd.close()\n"
      ],
      "execution_count": 47,
      "outputs": [
        {
          "output_type": "stream",
          "name": "stdout",
          "text": [
            "Enter product details you want to add\n",
            "-----------------------------------\n",
            "Enter product id: 1234\n",
            "Enter name of the product: milksha\n",
            "Enter the quantity: 12\n",
            "Enter the expiry date: 3030\n",
            "Enter the price: 560\n",
            "Enter the type: drink\n",
            "*************************\n",
            "Lets see new items are added or not?\n",
            "--------------------------\n",
            "Enter product you want to buy:\n",
            "Enter product id: 110\n",
            "Enter product quantity: 1\n",
            "Available\n",
            "-----------------\n",
            "Generate Bill\n",
            "-----------------\n",
            "Name of Product is:  Sauce\n",
            "Price of Product is:  100\n",
            "Billing amount is:  100\n",
            "---------------------------\n",
            "Updated inventory(Quantity)\n",
            "---------------------------\n",
            "{'name': 'Sauce', 'quantity': 14, 'Exp_date': '2021', 'Price': 100, 'Type': 'Packed food'}\n"
          ]
        }
      ]
    },
    {
      "cell_type": "code",
      "metadata": {
        "id": "tenrqVXa0xZX"
      },
      "source": [
        ""
      ],
      "execution_count": 18,
      "outputs": []
    },
    {
      "cell_type": "code",
      "metadata": {
        "id": "ytIiuYqQ04cu"
      },
      "source": [
        "\n"
      ],
      "execution_count": 38,
      "outputs": []
    },
    {
      "cell_type": "code",
      "metadata": {
        "id": "MiY1d8rP04gI"
      },
      "source": [
        ""
      ],
      "execution_count": null,
      "outputs": []
    },
    {
      "cell_type": "code",
      "metadata": {
        "id": "bTxqpSBK6QMg"
      },
      "source": [
        ""
      ],
      "execution_count": null,
      "outputs": []
    },
    {
      "cell_type": "code",
      "metadata": {
        "id": "oJ1Ot7FR6QQB"
      },
      "source": [
        ""
      ],
      "execution_count": null,
      "outputs": []
    },
    {
      "cell_type": "code",
      "metadata": {
        "id": "CJ5WAWs_8B_6"
      },
      "source": [
        ""
      ],
      "execution_count": 27,
      "outputs": []
    },
    {
      "cell_type": "code",
      "metadata": {
        "id": "GGudIAlZ8CDY"
      },
      "source": [
        ""
      ],
      "execution_count": 28,
      "outputs": []
    }
  ]
}